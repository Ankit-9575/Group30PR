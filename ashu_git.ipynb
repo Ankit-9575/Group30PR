{
 "cells": [
  {
   "cell_type": "markdown",
   "id": "8ad5940b",
   "metadata": {},
   "source": [
    "# cleaning"
   ]
  },
  {
   "cell_type": "code",
   "execution_count": null,
   "id": "9315a3d7",
   "metadata": {},
   "outputs": [],
   "source": []
  },
  {
   "cell_type": "markdown",
   "id": "53837049",
   "metadata": {},
   "source": [
    "'back_legroom'"
   ]
  },
  {
   "cell_type": "code",
   "execution_count": null,
   "id": "b759af0d",
   "metadata": {},
   "outputs": [],
   "source": [
    "bac1=tra12.withColumn('back_legroom', translate('back_legroom', 'in', ''))\n",
    "bac2=bac1.withColumn('back_legroom', translate('back_legroom', ' ', ''))\n",
    "bac3=bac2.withColumn('back_legroom', translate('back_legroom', '.', ' '))\n",
    "bac4=bac3.withColumn('back_legroom', regexp_replace('back_legroom', '(\\s+\\d*\\s*)$', ''))    #(\\s+\\d*\\s*)$\n",
    "bac5=bac4.withColumn('back_legroom', regexp_replace('back_legroom', '[^\\d{2}]', '0'))\n",
    "bac6=bac5.withColumn('back_legroom', regexp_replace('back_legroom', '^(\\d{3,3000})', '38')) \n",
    "bac7=bac6.withColumn('back_legroom', regexp_replace('back_legroom', \"(^0+)\", \"0\"))\n",
    "bac8=bac7.withColumn('back_legroom', regexp_replace('back_legroom', '^0$', '38')) \n",
    "bac9=bac8.withColumn('back_legroom', regexp_replace('back_legroom', r'^[0]*', ''))\n",
    "bac10=bac9.withColumn('back_legroom',when(bac9.back_legroom<=9,38).otherwise(bac9.back_legroom))\n",
    "bac11=bac10.withColumn('back_legroom',col('back_legroom').cast(\"double\"))\n",
    "bac12=bac11.withColumn('back_legroom',col('back_legroom')).na.fill(38)"
   ]
  },
  {
   "cell_type": "markdown",
   "id": "da24a198",
   "metadata": {},
   "source": [
    "'front_legroom'"
   ]
  },
  {
   "cell_type": "code",
   "execution_count": null,
   "id": "694dad8f",
   "metadata": {},
   "outputs": [],
   "source": [
    "fro1=bac12.withColumn('front_legroom', translate('front_legroom', 'in', ''))\n",
    "fro2=fro1.withColumn('front_legroom', translate('front_legroom', ' ', ''))\n",
    "fro3=fro2.withColumn('front_legroom', translate('front_legroom', '.', ' '))\n",
    "fro4=fro3.withColumn('front_legroom', regexp_replace('front_legroom', '(\\s+\\d*\\s*)$', ''))    \n",
    "fro5=fro4.withColumn('front_legroom', regexp_replace('front_legroom', '[^\\d{2}]', '0'))\n",
    "fro6=fro5.withColumn('front_legroom', regexp_replace('front_legroom', '^(\\d{3,3000})', '40')) \n",
    "fro7=fro6.withColumn('front_legroom', regexp_replace('front_legroom', \"(^0+)\", \"0\"))\n",
    "fro8=fro7.withColumn('front_legroom', regexp_replace('front_legroom', '^0$', '40')) \n",
    "fro9=fro8.withColumn('front_legroom', regexp_replace('front_legroom', r'^[0]*', ''))\n",
    "fro10=fro9.withColumn('front_legroom',when(fro9.front_legroom<=9,40).otherwise(fro9.front_legroom))\n",
    "fro11=fro10.withColumn('front_legroom',col('front_legroom').cast(\"double\"))\n",
    "fro12=fro11.withColumn('front_legroom',col('front_legroom')).na.fill(40)"
   ]
  },
  {
   "cell_type": "markdown",
   "id": "5fade85d",
   "metadata": {},
   "source": [
    "'height'"
   ]
  },
  {
   "cell_type": "code",
   "execution_count": null,
   "id": "ae446adf",
   "metadata": {},
   "outputs": [],
   "source": [
    "hei1=fro12.withColumn('height', translate('height', 'in', ''))\n",
    "hei2=hei1.withColumn('height', translate('height', ' ', ''))\n",
    "hei3=hei2.withColumn('height', translate('height', '.', ' '))\n",
    "hei4=hei3.withColumn('height', regexp_replace('height', '(\\s+\\d*\\s*)$', ''))    \n",
    "hei5=hei4.withColumn('height', regexp_replace('height', '[^\\d{2}]', '0'))\n",
    "hei6=hei5.withColumn('height', regexp_replace('height', '^(\\d{3,3000})', '66')) \n",
    "hei7=hei6.withColumn('height', regexp_replace('height', \"(^0+)\", \"0\"))\n",
    "hei8=hei7.withColumn('height', regexp_replace('height', '^0$', '66')) \n",
    "hei9=hei8.withColumn('height', regexp_replace('height', r'^[0]*', ''))\n",
    "hei10=hei9.withColumn('height',when(hei9.height<=9,66).otherwise(hei9.height))\n",
    "hei11=hei10.withColumn('height',col('height').cast(\"double\"))\n",
    "hei12=hei11.withColumn('height',col('height')).na.fill(66)"
   ]
  },
  {
   "cell_type": "markdown",
   "id": "a3f2eafd",
   "metadata": {},
   "source": [
    "'length'"
   ]
  },
  {
   "cell_type": "code",
   "execution_count": null,
   "id": "14ffe80d",
   "metadata": {},
   "outputs": [],
   "source": [
    "len1=hei12.withColumn('length', translate('length', 'in', ''))\n",
    "len2=len1.withColumn('length', translate('length', ' ', ''))\n",
    "len3=len2.withColumn('length', translate('length', '.', ' '))\n",
    "len4=len3.withColumn('length', regexp_replace('length', '(\\s+\\d*\\s*)$', ''))    \n",
    "len5=len4.withColumn('length', regexp_replace('length', '[^\\d{3}]', '0'))\n",
    "len6=len5.withColumn('length', regexp_replace('length', '^(\\d{4,3000})', '231'))\n",
    "len7=len6.withColumn('length', regexp_replace('length', '^[0-9]{2}$', '231'))\n",
    "len8=len7.withColumn('length', regexp_replace('length', \"(^0+)\", \"0\"))\n",
    "len9=len8.withColumn('length', regexp_replace('length', '^0$', '231')) \n",
    "len10=len9.withColumn('length', regexp_replace('length', r'^[0]*', ''))\n",
    "len11=len10.withColumn('length',when(len10.length<=9,231).otherwise(len10.length))\n",
    "len12=len11.withColumn('length',col('length').cast(\"double\"))\n",
    "len13=len12.withColumn('length',col('length')).na.fill(231)"
   ]
  },
  {
   "cell_type": "markdown",
   "id": "d4fdb7b3",
   "metadata": {},
   "source": [
    "'fuel_tank_volume'"
   ]
  },
  {
   "cell_type": "code",
   "execution_count": null,
   "id": "19eb8998",
   "metadata": {},
   "outputs": [],
   "source": [
    "fue1=len12.withColumn('fuel_tank_volume', translate('fuel_tank_volume', 'gal', ''))\n",
    "fue2=fue1.withColumn('fuel_tank_volume', translate('fuel_tank_volume', ' ', ''))\n",
    "fue3=fue2.withColumn('fuel_tank_volume', translate('fuel_tank_volume', '.', ' '))\n",
    "fue4=fue3.withColumn('fuel_tank_volume', regexp_replace('fuel_tank_volume', '(\\s+\\d*\\s*)$', ''))    \n",
    "fue5=fue4.withColumn('fuel_tank_volume', regexp_replace('fuel_tank_volume', '[^\\d{2}]', '0'))\n",
    "fue6=fue5.withColumn('fuel_tank_volume', regexp_replace('fuel_tank_volume', '^(\\d{3,3000})', '26')) \n",
    "fue7=fue6.withColumn('fuel_tank_volume', regexp_replace('fuel_tank_volume', \"(^0+)\", \"0\"))\n",
    "fue8=fue7.withColumn('fuel_tank_volume', regexp_replace('fuel_tank_volume', '^0$', '26')) \n",
    "fue9=fue8.withColumn('fuel_tank_volume', regexp_replace('fuel_tank_volume', r'^[0]*', ''))\n",
    "fue10=fue9.withColumn('fuel_tank_volume',when(fue9.fuel_tank_volume<=9,26).otherwise(fue9.fuel_tank_volume))\n",
    "fue11=fue10.withColumn('fuel_tank_volume',col('fuel_tank_volume').cast(\"double\"))\n",
    "fue12=fue11.withColumn('fuel_tank_volume',col('fuel_tank_volume')).na.fill(26)"
   ]
  },
  {
   "cell_type": "markdown",
   "id": "b85f8ac3",
   "metadata": {},
   "source": [
    "'latitude'"
   ]
  },
  {
   "cell_type": "code",
   "execution_count": null,
   "id": "32f22c0d",
   "metadata": {},
   "outputs": [],
   "source": [
    "#lat1=city3.withColumn('latitude', regexp_replace('latitude', '[\\d\\d\\.\\d\\d\\d\\d*]', '0'))\n",
    "#lat1.groupby('latitude').count().sort('count',ascending=False).collect()"
   ]
  },
  {
   "cell_type": "code",
   "execution_count": null,
   "id": "456e6e73",
   "metadata": {},
   "outputs": [],
   "source": []
  }
 ],
 "metadata": {
  "kernelspec": {
   "display_name": "Python 3",
   "language": "python",
   "name": "python3"
  },
  "language_info": {
   "codemirror_mode": {
    "name": "ipython",
    "version": 3
   },
   "file_extension": ".py",
   "mimetype": "text/x-python",
   "name": "python",
   "nbconvert_exporter": "python",
   "pygments_lexer": "ipython3",
   "version": "3.8.8"
  }
 },
 "nbformat": 4,
 "nbformat_minor": 5
}
